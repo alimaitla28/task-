{
  "nbformat": 4,
  "nbformat_minor": 0,
  "metadata": {
    "colab": {
      "provenance": [],
      "authorship_tag": "ABX9TyPrhJUj4HWnWxq5UPYRjKcW",
      "include_colab_link": true
    },
    "kernelspec": {
      "name": "python3",
      "display_name": "Python 3"
    },
    "language_info": {
      "name": "python"
    }
  },
  "cells": [
    {
      "cell_type": "markdown",
      "metadata": {
        "id": "view-in-github",
        "colab_type": "text"
      },
      "source": [
        "<a href=\"https://colab.research.google.com/github/alimaitla28/task-/blob/main/assignment.ipynb\" target=\"_parent\"><img src=\"https://colab.research.google.com/assets/colab-badge.svg\" alt=\"Open In Colab\"/></a>"
      ]
    },
    {
      "cell_type": "code",
      "source": [],
      "metadata": {
        "id": "hHCm-XtAYyjJ"
      },
      "execution_count": null,
      "outputs": []
    },
    {
      "cell_type": "code",
      "source": [
        "import random\n",
        "\n",
        "def generate_puzzle():\n",
        "    puzzle_state = list(range(1, 9)) + [0]  # Initialize with tiles and empty space\n",
        "    random.shuffle(puzzle_state)\n",
        "    blank_row = puzzle_state.index(0) // 3\n",
        "    inversions = 0\n",
        "    for i in range(len(puzzle_state)):\n",
        "        for j in range(i + 1, len(puzzle_state)):\n",
        "            if puzzle_state[i] > puzzle_state[j] and puzzle_state[j] != 0:\n",
        "                inversions += 1\n",
        "    if (blank_row % 2 == 0 and inversions % 2 != 0) or \\\n",
        "       (blank_row % 2 == 1 and inversions % 2 == 0):\n",
        "        # Current state is unsolvable, keep shuffling until solvable\n",
        "        while True:\n",
        "            random.shuffle(puzzle_state)\n",
        "            blank_row = puzzle_state.index(0) // 3\n",
        "            inversions = 0\n",
        "            for i in range(len(puzzle_state)):\n",
        "                for j in range(i + 1, len(puzzle_state)):\n",
        "                    if puzzle_state[i] > puzzle_state[j] and puzzle_state[j] != 0:\n",
        "                        inversions += 1\n",
        "            if (blank_row % 2 == 0 and inversions % 2 == 0) or \\\n",
        "               (blank_row % 2 == 1 and inversions % 2 != 0):\n",
        "                break  # Solvable state found\n",
        "\n",
        "    return [puzzle_state[i:i+3] for i in range(0, 9, 3)]  # Reshape into 3x3 list\n",
        "\n",
        "# Example usage\n",
        "puzzle = generate_puzzle()\n",
        "print(puzzle)"
      ],
      "metadata": {
        "colab": {
          "base_uri": "https://localhost:8080/"
        },
        "id": "SomC0TwHZjoK",
        "outputId": "75ee3c79-2af8-42b2-da27-168f0778906e"
      },
      "execution_count": null,
      "outputs": [
        {
          "output_type": "stream",
          "name": "stdout",
          "text": [
            "[[5, 6, 8], [1, 7, 3], [0, 4, 2]]\n"
          ]
        }
      ]
    },
    {
      "cell_type": "code",
      "source": [],
      "metadata": {
        "id": "8aYjVLlPbZZg"
      },
      "execution_count": null,
      "outputs": []
    }
  ]
}